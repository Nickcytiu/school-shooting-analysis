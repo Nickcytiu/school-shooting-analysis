{
 "cells": [
  {
   "cell_type": "code",
   "execution_count": 1,
   "id": "dfd17e0d-b963-4fee-8ce0-a960f3458ffd",
   "metadata": {},
   "outputs": [],
   "source": [
    "import requests\n",
    "from bs4 import BeautifulSoup\n",
    "import pandas as pd\n",
    "from datetime import datetime\n",
    "import re"
   ]
  },
  {
   "cell_type": "code",
   "execution_count": null,
   "id": "357eb34b-fe4f-4a54-b11c-2bad2e29e2f1",
   "metadata": {},
   "outputs": [],
   "source": []
  },
  {
   "cell_type": "code",
   "execution_count": null,
   "id": "fab374e0-61ad-471a-ad98-e376c6f3a5c3",
   "metadata": {},
   "outputs": [],
   "source": []
  },
  {
   "cell_type": "code",
   "execution_count": 2,
   "id": "ca28f27f-75b1-40c3-bf1b-b6834059f255",
   "metadata": {},
   "outputs": [],
   "source": [
    "url = \"https://en.wikipedia.org/wiki/List_of_school_shootings_in_the_United_States\"\n",
    "url_19 = \"https://en.wikipedia.org/wiki/List_of_school_shootings_in_the_United_States_(before_2000)\""
   ]
  },
  {
   "cell_type": "code",
   "execution_count": 3,
   "id": "e3053fbd-d0b4-4ca0-9d40-7e3f05ba0cc9",
   "metadata": {},
   "outputs": [],
   "source": [
    "response = requests.get(url_19)"
   ]
  },
  {
   "cell_type": "code",
   "execution_count": 4,
   "id": "eee2d4d2-c345-46ac-b256-72be114c5264",
   "metadata": {},
   "outputs": [],
   "source": [
    "soup = BeautifulSoup(response.text, 'html.parser')"
   ]
  },
  {
   "cell_type": "code",
   "execution_count": 5,
   "id": "ff83f3ce-2c5c-4abb-91f6-1f2ab77956e7",
   "metadata": {},
   "outputs": [],
   "source": [
    "table_rows = soup.find_all(name=\"tr\")"
   ]
  },
  {
   "cell_type": "code",
   "execution_count": 6,
   "id": "59715ff1-f0f8-4b8e-9331-8bb66610fe23",
   "metadata": {
    "tags": []
   },
   "outputs": [],
   "source": [
    "ex = table_rows[36]"
   ]
  },
  {
   "cell_type": "code",
   "execution_count": 7,
   "id": "4d35a771-0aa7-4c26-9693-698412277f5d",
   "metadata": {},
   "outputs": [],
   "source": [
    "e = ex.find_all('td')"
   ]
  },
  {
   "cell_type": "code",
   "execution_count": 8,
   "id": "b4755d71-6199-4c81-942e-7dcff076afd3",
   "metadata": {},
   "outputs": [],
   "source": [
    "x = e[3].text"
   ]
  },
  {
   "cell_type": "code",
   "execution_count": 11,
   "id": "b23d4dda-ee14-43ae-bbb7-307274f65d3b",
   "metadata": {},
   "outputs": [
    {
     "data": {
      "text/plain": [
       "'?\\n'"
      ]
     },
     "execution_count": 11,
     "metadata": {},
     "output_type": "execute_result"
    }
   ],
   "source": [
    "x"
   ]
  },
  {
   "cell_type": "code",
   "execution_count": 12,
   "id": "300ace33-3586-4481-8818-8283fb88bfe9",
   "metadata": {},
   "outputs": [],
   "source": [
    "text_example = ex.find_all('td')"
   ]
  },
  {
   "cell_type": "code",
   "execution_count": 13,
   "id": "62e35fdd-e583-4e10-8849-9486d2a36d3b",
   "metadata": {},
   "outputs": [],
   "source": [
    "regex_pattern = '([A-Za-z, 0-9]+)\\\\n'\n",
    "regex_loc = '([A-Za-z, .]*)\\\\n'\n",
    "regex_num = '(^\\d?\\d?\\d?\\d)'\n",
    "regex_des = '(?<![\\\\\\[])[^\\\\\\[\\]]+'\n",
    "regex_school = '(((([A-Z]\\w+ )?([A-Z]\\w+ )?([A-Z])(\\w+-\\w+)?(\\w*\\.\\w*\\. )?([^(a|A)t ]\\w* )?([A-Z][\\w+ )?([^at ]\\w+\\,? )?(\\w\\.)?(\\w+\\. )?)|([A-Z]\\w+ )([A-Z]\\w+ )?([A-Z]\\w+ )?)(((e|E)lementary |(m|M)iddle |(h|H)igh )?((s|S)chool)|(c|C)ollege|(u|U)niversity|(c|C)ollegiate|(i|I)nstitute (of )? ([A-Z]\\w+ )|(s|S)tadium|(C)ampus|(a|A)cademy (of )?([A-Z]\\w+ )?([A-Z]\\w+ ?)?([A-Z]\\w+)?)|(school bus)|(([A-Z]\\w+ )?((u|U)niversity |(c|C)ollege |(a|A)cademy |(i|I)nstitute )((of )(the )?(([A-Z])(\\w+ ?))([A-Z]\\w+ )?([A-Z]\\w+)?))|(s|S)tadium|(\\w+ )(Elementary)|(UCLA))'"
   ]
  },
  {
   "cell_type": "code",
   "execution_count": 14,
   "id": "18231df9-d0b4-45f9-87a3-d26d848f3b98",
   "metadata": {},
   "outputs": [],
   "source": [
    "# t = re.findall(regex_pattern, text_example)[0]\n",
    "# print(t)"
   ]
  },
  {
   "cell_type": "code",
   "execution_count": 15,
   "id": "33d4e937-bb50-4e57-9a04-2df1b27752eb",
   "metadata": {},
   "outputs": [],
   "source": [
    "# t = datetime.strptime(t, \"%B %d, %Y\")"
   ]
  },
  {
   "cell_type": "code",
   "execution_count": 16,
   "id": "295294f6-67f7-4aa8-9227-55e16d3bf0fd",
   "metadata": {},
   "outputs": [],
   "source": [
    "# date = re.findall(regex_pattern, text_example)[0]\n",
    "# date = datetime.strptime(date, \"%B %d, %Y\")\n",
    "# print(date)"
   ]
  },
  {
   "cell_type": "code",
   "execution_count": 17,
   "id": "2ee2735e-37ae-4eb1-a51e-b16042c85078",
   "metadata": {},
   "outputs": [],
   "source": [
    "school_test = re.findall(regex_school, e[4].text)"
   ]
  },
  {
   "cell_type": "code",
   "execution_count": 18,
   "id": "238d80ac-3c45-43b1-89f8-75462b7e1eba",
   "metadata": {},
   "outputs": [
    {
     "data": {
      "text/plain": [
       "('Parochial School',\n",
       " 'Parochial ',\n",
       " '',\n",
       " '',\n",
       " '',\n",
       " '',\n",
       " '',\n",
       " '',\n",
       " '',\n",
       " '',\n",
       " '',\n",
       " '',\n",
       " 'Parochial ',\n",
       " '',\n",
       " '',\n",
       " 'School',\n",
       " '',\n",
       " '',\n",
       " '',\n",
       " '',\n",
       " 'School',\n",
       " 'S',\n",
       " '',\n",
       " '',\n",
       " '',\n",
       " '',\n",
       " '',\n",
       " '',\n",
       " '',\n",
       " '',\n",
       " '',\n",
       " '',\n",
       " '',\n",
       " '',\n",
       " '',\n",
       " '',\n",
       " '',\n",
       " '',\n",
       " '',\n",
       " '',\n",
       " '',\n",
       " '',\n",
       " '',\n",
       " '',\n",
       " '',\n",
       " '',\n",
       " '',\n",
       " '',\n",
       " '',\n",
       " '',\n",
       " '',\n",
       " '',\n",
       " '',\n",
       " '',\n",
       " '')"
      ]
     },
     "execution_count": 18,
     "metadata": {},
     "output_type": "execute_result"
    }
   ],
   "source": [
    "school_test[0]"
   ]
  },
  {
   "cell_type": "code",
   "execution_count": 19,
   "id": "20966fcc-fb91-46ff-8e3c-9ce10605cdd7",
   "metadata": {},
   "outputs": [],
   "source": [
    "def _extract_date(text):\n",
    "    date = re.findall(regex_pattern, text)[0]\n",
    "    date = datetime.strptime(date, \"%B %d, %Y\")\n",
    "    return date\n",
    "\n",
    "def _extract_location(text):\n",
    "    location = re.findall(regex_loc, text)[0]\n",
    "    return location\n",
    "\n",
    "def _extract_death(text):\n",
    "    death = re.findall(regex_num, text)[0]\n",
    "    death = int(death)\n",
    "    return death\n",
    "\n",
    "def _extract_injury(text):\n",
    "    injury = re.findall(regex_num, text)[0]\n",
    "    injury = int(injury)\n",
    "    return injury\n",
    "\n",
    "def _extract_description(text):\n",
    "    description = re.findall(regex_des, text)[0]\n",
    "    return description\n",
    "\n",
    "def _extract_school(text):\n",
    "    school = re.findall(regex_school, text)\n",
    "    return school"
   ]
  },
  {
   "cell_type": "code",
   "execution_count": 20,
   "id": "cc1ce942-6b67-4592-8d01-b9dd4ef7496c",
   "metadata": {},
   "outputs": [],
   "source": [
    "def parse_table_rows(table_rows):\n",
    "    table_data = {}\n",
    "    \n",
    "    try:\n",
    "        for ix, tr in enumerate(table_rows[1:], start = 1):\n",
    "            data_cols = tr.find_all(\"td\")\n",
    "            if data_cols == []:\n",
    "                print(f\"No Data on {ix}th entry\")\n",
    "            else:\n",
    "                death = data_cols[2].text\n",
    "                injury = data_cols[3].text\n",
    "                description = data_cols[4].text\n",
    "                \n",
    "                date = _extract_date(data_cols[0].text)\n",
    "                location = _extract_location(data_cols[1].text)\n",
    "                school = _extract_school(data_cols[4].text)\n",
    "                \n",
    "                injury = _extract_injury(injury)\n",
    "                death = _extract_death(death)\n",
    "                description = _extract_description(description)\n",
    "                print(date, location, school, injury, death, description)\n",
    "                \n",
    "                if \"n 1\" in death and \"n 1\" in injury:\n",
    "                    DIS = True\n",
    "                    IIS = True\n",
    "                    print(\"first\")\n",
    "                elif \"n 1\" in death:\n",
    "                    DIS = True\n",
    "                    IIS = False\n",
    "                    print(\"second\")\n",
    "                elif \"n 1\" in injury:\n",
    "                    IIS = True\n",
    "                    DIS = False\n",
    "                    print(\"third\")\n",
    "                elif school == []:\n",
    "                    print(f\"No Data on {ix}th entry for school\")\n",
    "                    school = pd.NA\n",
    "                    print(\"fourth\")\n",
    "                elif injury == []:\n",
    "                    print(f\"No Date on {ix}th entry for injury\")\n",
    "                    injury == \"Unknown\"\n",
    "                    print(\"fifth\")\n",
    "                else:\n",
    "                    DIS = False\n",
    "                    IIS = False\n",
    "                    school = school[0][0]\n",
    "                    print(school)\n",
    "                    print(\"last step\")\n",
    "                    \n",
    "                row_data = {'Date': date, \n",
    "                            'Location': location, \n",
    "                            'School': school,\n",
    "                            'Death': death,\n",
    "                            'Death_Including_Suspect': DIS,\n",
    "                            'Injury': injury, \n",
    "                            'Injury_Including_Suspect': IIS,\n",
    "                            'Description': description}\n",
    "                table_data[ix] = row_data\n",
    "        return table_data\n",
    "    except:\n",
    "        print(\"No data\")"
   ]
  },
  {
   "cell_type": "code",
   "execution_count": 21,
   "id": "42a6acc4-0ba3-40b4-9fff-19ca9a19c1eb",
   "metadata": {
    "tags": []
   },
   "outputs": [
    {
     "name": "stdout",
     "output_type": "stream",
     "text": [
      "No Data on 1th entry\n",
      "1840-11-12 00:00:00 Charlottesville, Virginia [('University of Virginia', '', '', '', '', '', '', '', '', '', '', '', '', '', '', '', '', '', '', '', '', '', '', '', '', '', '', '', '', '', '', '', '', '', '', '', 'University of Virginia', '', 'University ', 'U', '', '', '', 'of Virginia', 'of ', '', 'Virginia', 'V', 'irginia', '', '', '', '', '', '')] 0 1 John Anthony Gardner Davis, a law professor at the University of Virginia, was shot by student Joseph Semmes and died three days later.\n",
      "No data\n"
     ]
    }
   ],
   "source": [
    "t_s = parse_table_rows(table_rows)"
   ]
  },
  {
   "cell_type": "code",
   "execution_count": 22,
   "id": "d89a85fc-b9cf-4c86-8483-d0f34cac7de3",
   "metadata": {},
   "outputs": [
    {
     "ename": "TypeError",
     "evalue": "object of type 'NoneType' has no len()",
     "output_type": "error",
     "traceback": [
      "\u001b[0;31m---------------------------------------------------------------------------\u001b[0m",
      "\u001b[0;31mTypeError\u001b[0m                                 Traceback (most recent call last)",
      "\u001b[0;32m<ipython-input-22-dfc9de6147a5>\u001b[0m in \u001b[0;36m<module>\u001b[0;34m\u001b[0m\n\u001b[0;32m----> 1\u001b[0;31m \u001b[0mdf\u001b[0m \u001b[0;34m=\u001b[0m \u001b[0mpd\u001b[0m\u001b[0;34m.\u001b[0m\u001b[0mDataFrame\u001b[0m\u001b[0;34m.\u001b[0m\u001b[0mfrom_dict\u001b[0m\u001b[0;34m(\u001b[0m\u001b[0mt_s\u001b[0m\u001b[0;34m,\u001b[0m \u001b[0morient\u001b[0m \u001b[0;34m=\u001b[0m \u001b[0;34m'index'\u001b[0m\u001b[0;34m)\u001b[0m\u001b[0;34m\u001b[0m\u001b[0;34m\u001b[0m\u001b[0m\n\u001b[0m",
      "\u001b[0;32m~/opt/anaconda3/lib/python3.8/site-packages/pandas/core/frame.py\u001b[0m in \u001b[0;36mfrom_dict\u001b[0;34m(cls, data, orient, dtype, columns)\u001b[0m\n\u001b[1;32m   1359\u001b[0m         \u001b[0morient\u001b[0m \u001b[0;34m=\u001b[0m \u001b[0morient\u001b[0m\u001b[0;34m.\u001b[0m\u001b[0mlower\u001b[0m\u001b[0;34m(\u001b[0m\u001b[0;34m)\u001b[0m\u001b[0;34m\u001b[0m\u001b[0;34m\u001b[0m\u001b[0m\n\u001b[1;32m   1360\u001b[0m         \u001b[0;32mif\u001b[0m \u001b[0morient\u001b[0m \u001b[0;34m==\u001b[0m \u001b[0;34m\"index\"\u001b[0m\u001b[0;34m:\u001b[0m\u001b[0;34m\u001b[0m\u001b[0;34m\u001b[0m\u001b[0m\n\u001b[0;32m-> 1361\u001b[0;31m             \u001b[0;32mif\u001b[0m \u001b[0mlen\u001b[0m\u001b[0;34m(\u001b[0m\u001b[0mdata\u001b[0m\u001b[0;34m)\u001b[0m \u001b[0;34m>\u001b[0m \u001b[0;36m0\u001b[0m\u001b[0;34m:\u001b[0m\u001b[0;34m\u001b[0m\u001b[0;34m\u001b[0m\u001b[0m\n\u001b[0m\u001b[1;32m   1362\u001b[0m                 \u001b[0;31m# TODO speed up Series case\u001b[0m\u001b[0;34m\u001b[0m\u001b[0;34m\u001b[0m\u001b[0;34m\u001b[0m\u001b[0m\n\u001b[1;32m   1363\u001b[0m                 \u001b[0;32mif\u001b[0m \u001b[0misinstance\u001b[0m\u001b[0;34m(\u001b[0m\u001b[0mlist\u001b[0m\u001b[0;34m(\u001b[0m\u001b[0mdata\u001b[0m\u001b[0;34m.\u001b[0m\u001b[0mvalues\u001b[0m\u001b[0;34m(\u001b[0m\u001b[0;34m)\u001b[0m\u001b[0;34m)\u001b[0m\u001b[0;34m[\u001b[0m\u001b[0;36m0\u001b[0m\u001b[0;34m]\u001b[0m\u001b[0;34m,\u001b[0m \u001b[0;34m(\u001b[0m\u001b[0mSeries\u001b[0m\u001b[0;34m,\u001b[0m \u001b[0mdict\u001b[0m\u001b[0;34m)\u001b[0m\u001b[0;34m)\u001b[0m\u001b[0;34m:\u001b[0m\u001b[0;34m\u001b[0m\u001b[0;34m\u001b[0m\u001b[0m\n",
      "\u001b[0;31mTypeError\u001b[0m: object of type 'NoneType' has no len()"
     ]
    }
   ],
   "source": [
    "df = pd.DataFrame.from_dict(t_s, orient = 'index')"
   ]
  },
  {
   "cell_type": "code",
   "execution_count": 23,
   "id": "e7745b67-7015-4b52-9abc-94d0aa3faab5",
   "metadata": {},
   "outputs": [
    {
     "ename": "NameError",
     "evalue": "name 'df' is not defined",
     "output_type": "error",
     "traceback": [
      "\u001b[0;31m---------------------------------------------------------------------------\u001b[0m",
      "\u001b[0;31mNameError\u001b[0m                                 Traceback (most recent call last)",
      "\u001b[0;32m<ipython-input-23-4422733c310d>\u001b[0m in \u001b[0;36m<module>\u001b[0;34m\u001b[0m\n\u001b[0;32m----> 1\u001b[0;31m \u001b[0mdf\u001b[0m\u001b[0;34m[\u001b[0m\u001b[0;34m'Death'\u001b[0m\u001b[0;34m]\u001b[0m\u001b[0;34m[\u001b[0m\u001b[0;36m28\u001b[0m\u001b[0;34m]\u001b[0m\u001b[0;34m\u001b[0m\u001b[0;34m\u001b[0m\u001b[0m\n\u001b[0m",
      "\u001b[0;31mNameError\u001b[0m: name 'df' is not defined"
     ]
    }
   ],
   "source": [
    "df['Death'][28]"
   ]
  },
  {
   "cell_type": "code",
   "execution_count": 24,
   "id": "936099dc-31cc-4550-9d5d-39856c3c4e30",
   "metadata": {},
   "outputs": [
    {
     "ename": "NameError",
     "evalue": "name 'df' is not defined",
     "output_type": "error",
     "traceback": [
      "\u001b[0;31m---------------------------------------------------------------------------\u001b[0m",
      "\u001b[0;31mNameError\u001b[0m                                 Traceback (most recent call last)",
      "\u001b[0;32m<ipython-input-24-c54037bf303b>\u001b[0m in \u001b[0;36m<module>\u001b[0;34m\u001b[0m\n\u001b[0;32m----> 1\u001b[0;31m \u001b[0mdf\u001b[0m\u001b[0;34m[\u001b[0m\u001b[0;34m'Description'\u001b[0m\u001b[0;34m]\u001b[0m\u001b[0;34m[\u001b[0m\u001b[0;36m3\u001b[0m\u001b[0;34m]\u001b[0m\u001b[0;34m\u001b[0m\u001b[0;34m\u001b[0m\u001b[0m\n\u001b[0m",
      "\u001b[0;31mNameError\u001b[0m: name 'df' is not defined"
     ]
    }
   ],
   "source": [
    "df['Description'][3]"
   ]
  },
  {
   "cell_type": "code",
   "execution_count": 163,
   "id": "b94fdf8d-e8a5-42af-a8f8-2bb937e71d51",
   "metadata": {},
   "outputs": [
    {
     "data": {
      "text/plain": [
       "23"
      ]
     },
     "execution_count": 163,
     "metadata": {},
     "output_type": "execute_result"
    }
   ],
   "source": [
    "df['Injury'].max()"
   ]
  },
  {
   "cell_type": "code",
   "execution_count": 164,
   "id": "748ca630-b903-4f18-8f35-0779e464a44d",
   "metadata": {},
   "outputs": [
    {
     "data": {
      "text/html": [
       "<div>\n",
       "<style scoped>\n",
       "    .dataframe tbody tr th:only-of-type {\n",
       "        vertical-align: middle;\n",
       "    }\n",
       "\n",
       "    .dataframe tbody tr th {\n",
       "        vertical-align: top;\n",
       "    }\n",
       "\n",
       "    .dataframe thead th {\n",
       "        text-align: right;\n",
       "    }\n",
       "</style>\n",
       "<table border=\"1\" class=\"dataframe\">\n",
       "  <thead>\n",
       "    <tr style=\"text-align: right;\">\n",
       "      <th></th>\n",
       "      <th>Date</th>\n",
       "      <th>Location</th>\n",
       "      <th>School</th>\n",
       "      <th>Death</th>\n",
       "      <th>Death_Including_Suspect</th>\n",
       "      <th>Injury</th>\n",
       "      <th>Injury_Including_Suspect</th>\n",
       "      <th>Description</th>\n",
       "    </tr>\n",
       "  </thead>\n",
       "  <tbody>\n",
       "    <tr>\n",
       "      <th>7</th>\n",
       "      <td>2001-03-05</td>\n",
       "      <td>Santee, California</td>\n",
       "      <td>Santana High School</td>\n",
       "      <td>2</td>\n",
       "      <td>False</td>\n",
       "      <td>13</td>\n",
       "      <td>False</td>\n",
       "      <td>Santana High School shooting: 15-year-old stud...</td>\n",
       "    </tr>\n",
       "    <tr>\n",
       "      <th>45</th>\n",
       "      <td>2007-04-16</td>\n",
       "      <td>Blacksburg, Virginia</td>\n",
       "      <td>&lt;NA&gt;</td>\n",
       "      <td>33</td>\n",
       "      <td>True</td>\n",
       "      <td>23</td>\n",
       "      <td>False</td>\n",
       "      <td>Virginia Tech shooting: A 23-year-old student,...</td>\n",
       "    </tr>\n",
       "    <tr>\n",
       "      <th>55</th>\n",
       "      <td>2008-02-14</td>\n",
       "      <td>DeKalb, Illinois</td>\n",
       "      <td>Northern Illinois University</td>\n",
       "      <td>6</td>\n",
       "      <td>True</td>\n",
       "      <td>21</td>\n",
       "      <td>False</td>\n",
       "      <td>Northern Illinois University shooting: 27-year...</td>\n",
       "    </tr>\n",
       "    <tr>\n",
       "      <th>202</th>\n",
       "      <td>2017-11-14</td>\n",
       "      <td>Rancho Tehama Reserve, California</td>\n",
       "      <td>Rancho Tehama Elementary School</td>\n",
       "      <td>6</td>\n",
       "      <td>True</td>\n",
       "      <td>18</td>\n",
       "      <td>False</td>\n",
       "      <td>Rancho Tehama Reserve shootings: Neighbor on a...</td>\n",
       "    </tr>\n",
       "    <tr>\n",
       "      <th>208</th>\n",
       "      <td>2018-01-23</td>\n",
       "      <td>Marshall County, Kentucky</td>\n",
       "      <td>Marshall County High School</td>\n",
       "      <td>2</td>\n",
       "      <td>False</td>\n",
       "      <td>18</td>\n",
       "      <td>False</td>\n",
       "      <td>Marshall County High School shooting: Gabriel ...</td>\n",
       "    </tr>\n",
       "    <tr>\n",
       "      <th>213</th>\n",
       "      <td>2018-02-14</td>\n",
       "      <td>Parkland, Florida</td>\n",
       "      <td>Marjory Stoneman Douglas High School</td>\n",
       "      <td>17</td>\n",
       "      <td>False</td>\n",
       "      <td>17</td>\n",
       "      <td>False</td>\n",
       "      <td>Marjory Stoneman Douglas High School shooting:...</td>\n",
       "    </tr>\n",
       "    <tr>\n",
       "      <th>228</th>\n",
       "      <td>2018-05-18</td>\n",
       "      <td>Santa Fe, Texas</td>\n",
       "      <td>Santa Fe High School</td>\n",
       "      <td>10</td>\n",
       "      <td>False</td>\n",
       "      <td>13</td>\n",
       "      <td>True</td>\n",
       "      <td>Santa Fe High School shooting: The school was ...</td>\n",
       "    </tr>\n",
       "    <tr>\n",
       "      <th>262</th>\n",
       "      <td>2019-04-25</td>\n",
       "      <td>Stone Mountain, Georgia</td>\n",
       "      <td>Wynbrooke Elementary School</td>\n",
       "      <td>0</td>\n",
       "      <td>False</td>\n",
       "      <td>10</td>\n",
       "      <td>False</td>\n",
       "      <td>At a teen armed with a pellet gun fired at Wyn...</td>\n",
       "    </tr>\n",
       "    <tr>\n",
       "      <th>276</th>\n",
       "      <td>2019-08-31</td>\n",
       "      <td>Mobile, Alabama</td>\n",
       "      <td>stadium</td>\n",
       "      <td>0</td>\n",
       "      <td>False</td>\n",
       "      <td>10</td>\n",
       "      <td>False</td>\n",
       "      <td>17-year-old Deangelo Dejuan Parnell shot 9 peo...</td>\n",
       "    </tr>\n",
       "  </tbody>\n",
       "</table>\n",
       "</div>"
      ],
      "text/plain": [
       "          Date                           Location  \\\n",
       "7   2001-03-05                 Santee, California   \n",
       "45  2007-04-16               Blacksburg, Virginia   \n",
       "55  2008-02-14                   DeKalb, Illinois   \n",
       "202 2017-11-14  Rancho Tehama Reserve, California   \n",
       "208 2018-01-23          Marshall County, Kentucky   \n",
       "213 2018-02-14                  Parkland, Florida   \n",
       "228 2018-05-18                    Santa Fe, Texas   \n",
       "262 2019-04-25            Stone Mountain, Georgia   \n",
       "276 2019-08-31                    Mobile, Alabama   \n",
       "\n",
       "                                   School  Death  Death_Including_Suspect  \\\n",
       "7                     Santana High School      2                    False   \n",
       "45                                   <NA>     33                     True   \n",
       "55           Northern Illinois University      6                     True   \n",
       "202       Rancho Tehama Elementary School      6                     True   \n",
       "208           Marshall County High School      2                    False   \n",
       "213  Marjory Stoneman Douglas High School     17                    False   \n",
       "228                  Santa Fe High School     10                    False   \n",
       "262           Wynbrooke Elementary School      0                    False   \n",
       "276                               stadium      0                    False   \n",
       "\n",
       "     Injury  Injury_Including_Suspect  \\\n",
       "7        13                     False   \n",
       "45       23                     False   \n",
       "55       21                     False   \n",
       "202      18                     False   \n",
       "208      18                     False   \n",
       "213      17                     False   \n",
       "228      13                      True   \n",
       "262      10                     False   \n",
       "276      10                     False   \n",
       "\n",
       "                                           Description  \n",
       "7    Santana High School shooting: 15-year-old stud...  \n",
       "45   Virginia Tech shooting: A 23-year-old student,...  \n",
       "55   Northern Illinois University shooting: 27-year...  \n",
       "202  Rancho Tehama Reserve shootings: Neighbor on a...  \n",
       "208  Marshall County High School shooting: Gabriel ...  \n",
       "213  Marjory Stoneman Douglas High School shooting:...  \n",
       "228  Santa Fe High School shooting: The school was ...  \n",
       "262  At a teen armed with a pellet gun fired at Wyn...  \n",
       "276  17-year-old Deangelo Dejuan Parnell shot 9 peo...  "
      ]
     },
     "execution_count": 164,
     "metadata": {},
     "output_type": "execute_result"
    }
   ],
   "source": [
    "df[df['Injury'] >= 10]"
   ]
  },
  {
   "cell_type": "code",
   "execution_count": 166,
   "id": "5b83419a-8f52-422c-a50b-d244a0c175be",
   "metadata": {},
   "outputs": [
    {
     "name": "stdout",
     "output_type": "stream",
     "text": [
      "<class 'pandas.core.frame.DataFrame'>\n",
      "Int64Index: 322 entries, 1 to 324\n",
      "Data columns (total 8 columns):\n",
      " #   Column                    Non-Null Count  Dtype         \n",
      "---  ------                    --------------  -----         \n",
      " 0   Date                      322 non-null    datetime64[ns]\n",
      " 1   Location                  322 non-null    object        \n",
      " 2   School                    305 non-null    object        \n",
      " 3   Death                     322 non-null    int64         \n",
      " 4   Death_Including_Suspect   322 non-null    bool          \n",
      " 5   Injury                    322 non-null    int64         \n",
      " 6   Injury_Including_Suspect  322 non-null    bool          \n",
      " 7   Description               322 non-null    object        \n",
      "dtypes: bool(2), datetime64[ns](1), int64(2), object(3)\n",
      "memory usage: 26.3+ KB\n"
     ]
    }
   ],
   "source": [
    "df.info()"
   ]
  },
  {
   "cell_type": "code",
   "execution_count": 148,
   "id": "018bb1a2-108b-4cb5-8251-22e1286b58fb",
   "metadata": {},
   "outputs": [
    {
     "data": {
      "text/plain": [
       "No School Data                         17\n",
       "school bus                              5\n",
       "Savannah State University               3\n",
       "stadium                                 2\n",
       "Northern Illinois University            2\n",
       "                                       ..\n",
       "June Jordan High School                 1\n",
       "Mississippi Valley State University     1\n",
       "Oshkosh High School                     1\n",
       "Georgia Gwinnett College                1\n",
       "Pearl-Cohn High School                  1\n",
       "Name: School, Length: 293, dtype: int64"
      ]
     },
     "execution_count": 148,
     "metadata": {},
     "output_type": "execute_result"
    }
   ],
   "source": [
    "df.School.value_counts()"
   ]
  },
  {
   "cell_type": "code",
   "execution_count": 149,
   "id": "9e22c942-7192-4029-a88d-e3e63151d69a",
   "metadata": {},
   "outputs": [
    {
     "data": {
      "text/plain": [
       "1      2000\n",
       "2      2000\n",
       "3      2000\n",
       "4      2000\n",
       "5      2000\n",
       "       ... \n",
       "320    2021\n",
       "321    2021\n",
       "322    2021\n",
       "323    2021\n",
       "324    2021\n",
       "Name: Date, Length: 322, dtype: int64"
      ]
     },
     "execution_count": 149,
     "metadata": {},
     "output_type": "execute_result"
    }
   ],
   "source": [
    "df.Date.apply(lambda x: x.year)"
   ]
  },
  {
   "cell_type": "code",
   "execution_count": 150,
   "id": "ee4117bf-32b4-436f-ab4b-94a6f169a30f",
   "metadata": {},
   "outputs": [],
   "source": [
    "df['Year'] = df.Date.apply(lambda x: x.year)"
   ]
  },
  {
   "cell_type": "code",
   "execution_count": 151,
   "id": "8ab60ffb-a2b3-4df3-be8f-5db71ec22b2c",
   "metadata": {},
   "outputs": [],
   "source": [
    "yearly_shootings = df.groupby('Year').size().sort_index(ascending=True)\n",
    "yearly_deaths = df.groupby('Year')['Death'].sum().sort_index(ascending=True)"
   ]
  },
  {
   "cell_type": "code",
   "execution_count": 152,
   "id": "dad49bf1-a7fd-4291-8bce-c0f9750ec3c0",
   "metadata": {},
   "outputs": [
    {
     "data": {
      "text/plain": [
       "Year\n",
       "2000     6\n",
       "2001     5\n",
       "2002     6\n",
       "2003     5\n",
       "2004     3\n",
       "2005     6\n",
       "2006    11\n",
       "2007     6\n",
       "2008    14\n",
       "2009     6\n",
       "2010    10\n",
       "2011     9\n",
       "2012    10\n",
       "2013    25\n",
       "2014    34\n",
       "2015    19\n",
       "2016    15\n",
       "2017    12\n",
       "2018    36\n",
       "2019    55\n",
       "2020     8\n",
       "2021    21\n",
       "dtype: int64"
      ]
     },
     "execution_count": 152,
     "metadata": {},
     "output_type": "execute_result"
    }
   ],
   "source": [
    "yearly_shootings"
   ]
  },
  {
   "cell_type": "code",
   "execution_count": 153,
   "id": "443e0633-c46c-425f-86f0-2970f90c2072",
   "metadata": {},
   "outputs": [
    {
     "data": {
      "text/html": [
       "<div>\n",
       "<style scoped>\n",
       "    .dataframe tbody tr th:only-of-type {\n",
       "        vertical-align: middle;\n",
       "    }\n",
       "\n",
       "    .dataframe tbody tr th {\n",
       "        vertical-align: top;\n",
       "    }\n",
       "\n",
       "    .dataframe thead th {\n",
       "        text-align: right;\n",
       "    }\n",
       "</style>\n",
       "<table border=\"1\" class=\"dataframe\">\n",
       "  <thead>\n",
       "    <tr style=\"text-align: right;\">\n",
       "      <th></th>\n",
       "      <th>Date</th>\n",
       "      <th>Location</th>\n",
       "      <th>School</th>\n",
       "      <th>Death</th>\n",
       "      <th>Death_Including_Suspect</th>\n",
       "      <th>Injury</th>\n",
       "      <th>Injury_Including_Suspect</th>\n",
       "      <th>Description</th>\n",
       "      <th>Year</th>\n",
       "    </tr>\n",
       "  </thead>\n",
       "  <tbody>\n",
       "    <tr>\n",
       "      <th>28</th>\n",
       "      <td>2005-03-21</td>\n",
       "      <td>Red Lake, Minnesota</td>\n",
       "      <td>Red Lake Senior High School</td>\n",
       "      <td>10</td>\n",
       "      <td>True</td>\n",
       "      <td>7</td>\n",
       "      <td>False</td>\n",
       "      <td>Red Lake shootings: 16-year-old student Jeff W...</td>\n",
       "      <td>2005</td>\n",
       "    </tr>\n",
       "    <tr>\n",
       "      <th>45</th>\n",
       "      <td>2007-04-16</td>\n",
       "      <td>Blacksburg, Virginia</td>\n",
       "      <td>No School Data</td>\n",
       "      <td>33</td>\n",
       "      <td>True</td>\n",
       "      <td>23</td>\n",
       "      <td>False</td>\n",
       "      <td>Virginia Tech shooting: A 23-year-old student,...</td>\n",
       "      <td>2007</td>\n",
       "    </tr>\n",
       "    <tr>\n",
       "      <th>98</th>\n",
       "      <td>2012-12-14</td>\n",
       "      <td>Newtown, Connecticut</td>\n",
       "      <td>Sandy Hook Elementary School</td>\n",
       "      <td>28</td>\n",
       "      <td>True</td>\n",
       "      <td>2</td>\n",
       "      <td>False</td>\n",
       "      <td>Sandy Hook Elementary School shooting: 20-year...</td>\n",
       "      <td>2012</td>\n",
       "    </tr>\n",
       "    <tr>\n",
       "      <th>171</th>\n",
       "      <td>2015-10-01</td>\n",
       "      <td>Roseburg, Oregon</td>\n",
       "      <td>Umpqua Community College</td>\n",
       "      <td>10</td>\n",
       "      <td>True</td>\n",
       "      <td>9</td>\n",
       "      <td>False</td>\n",
       "      <td>Umpqua Community College shooting: At around 1...</td>\n",
       "      <td>2015</td>\n",
       "    </tr>\n",
       "    <tr>\n",
       "      <th>213</th>\n",
       "      <td>2018-02-14</td>\n",
       "      <td>Parkland, Florida</td>\n",
       "      <td>Marjory Stoneman Douglas High School</td>\n",
       "      <td>17</td>\n",
       "      <td>False</td>\n",
       "      <td>17</td>\n",
       "      <td>False</td>\n",
       "      <td>Marjory Stoneman Douglas High School shooting:...</td>\n",
       "      <td>2018</td>\n",
       "    </tr>\n",
       "    <tr>\n",
       "      <th>228</th>\n",
       "      <td>2018-05-18</td>\n",
       "      <td>Santa Fe, Texas</td>\n",
       "      <td>Santa Fe High School</td>\n",
       "      <td>10</td>\n",
       "      <td>False</td>\n",
       "      <td>13</td>\n",
       "      <td>True</td>\n",
       "      <td>Santa Fe High School shooting: The school was ...</td>\n",
       "      <td>2018</td>\n",
       "    </tr>\n",
       "  </tbody>\n",
       "</table>\n",
       "</div>"
      ],
      "text/plain": [
       "          Date              Location                                School  \\\n",
       "28  2005-03-21   Red Lake, Minnesota           Red Lake Senior High School   \n",
       "45  2007-04-16  Blacksburg, Virginia                        No School Data   \n",
       "98  2012-12-14  Newtown, Connecticut          Sandy Hook Elementary School   \n",
       "171 2015-10-01      Roseburg, Oregon              Umpqua Community College   \n",
       "213 2018-02-14     Parkland, Florida  Marjory Stoneman Douglas High School   \n",
       "228 2018-05-18       Santa Fe, Texas                  Santa Fe High School   \n",
       "\n",
       "     Death  Death_Including_Suspect  Injury  Injury_Including_Suspect  \\\n",
       "28      10                     True       7                     False   \n",
       "45      33                     True      23                     False   \n",
       "98      28                     True       2                     False   \n",
       "171     10                     True       9                     False   \n",
       "213     17                    False      17                     False   \n",
       "228     10                    False      13                      True   \n",
       "\n",
       "                                           Description  Year  \n",
       "28   Red Lake shootings: 16-year-old student Jeff W...  2005  \n",
       "45   Virginia Tech shooting: A 23-year-old student,...  2007  \n",
       "98   Sandy Hook Elementary School shooting: 20-year...  2012  \n",
       "171  Umpqua Community College shooting: At around 1...  2015  \n",
       "213  Marjory Stoneman Douglas High School shooting:...  2018  \n",
       "228  Santa Fe High School shooting: The school was ...  2018  "
      ]
     },
     "execution_count": 153,
     "metadata": {},
     "output_type": "execute_result"
    }
   ],
   "source": [
    "df[df.Death >= 10]"
   ]
  },
  {
   "cell_type": "code",
   "execution_count": 154,
   "id": "2ba529a9-ab96-4da4-b76f-d387f0c99544",
   "metadata": {},
   "outputs": [],
   "source": [
    "import matplotlib.pyplot as plt"
   ]
  },
  {
   "cell_type": "code",
   "execution_count": 155,
   "id": "d40b2881-c685-4623-bad2-854f6c901002",
   "metadata": {},
   "outputs": [
    {
     "data": {
      "text/plain": [
       "[<matplotlib.lines.Line2D at 0x7fa4a8b74fa0>]"
      ]
     },
     "execution_count": 155,
     "metadata": {},
     "output_type": "execute_result"
    },
    {
     "data": {
      "image/png": "[encoded data removed]",
      "text/plain": [
       "<Figure size 432x288 with 1 Axes>"
      ]
     },
     "metadata": {
      "needs_background": "light"
     },
     "output_type": "display_data"
    }
   ],
   "source": [
    "plt.plot(yearly_shootings)\n",
    "plt.plot(yearly_deaths)"
   ]
  },
  {
   "cell_type": "code",
   "execution_count": 157,
   "id": "36eb159b-5456-4165-9802-4d4119df223a",
   "metadata": {},
   "outputs": [
    {
     "data": {
      "text/html": [
       "<div>\n",
       "<style scoped>\n",
       "    .dataframe tbody tr th:only-of-type {\n",
       "        vertical-align: middle;\n",
       "    }\n",
       "\n",
       "    .dataframe tbody tr th {\n",
       "        vertical-align: top;\n",
       "    }\n",
       "\n",
       "    .dataframe thead th {\n",
       "        text-align: right;\n",
       "    }\n",
       "</style>\n",
       "<table border=\"1\" class=\"dataframe\">\n",
       "  <thead>\n",
       "    <tr style=\"text-align: right;\">\n",
       "      <th></th>\n",
       "      <th>Date</th>\n",
       "      <th>Location</th>\n",
       "      <th>School</th>\n",
       "      <th>Death</th>\n",
       "      <th>Death_Including_Suspect</th>\n",
       "      <th>Injury</th>\n",
       "      <th>Injury_Including_Suspect</th>\n",
       "      <th>Description</th>\n",
       "      <th>Year</th>\n",
       "    </tr>\n",
       "  </thead>\n",
       "  <tbody>\n",
       "  </tbody>\n",
       "</table>\n",
       "</div>"
      ],
      "text/plain": [
       "Empty DataFrame\n",
       "Columns: [Date, Location, School, Death, Death_Including_Suspect, Injury, Injury_Including_Suspect, Description, Year]\n",
       "Index: []"
      ]
     },
     "execution_count": 157,
     "metadata": {},
     "output_type": "execute_result"
    }
   ],
   "source": [
    "df[df[\"School\"] == \"Massachusetts Institute of Technology\"]"
   ]
  },
  {
   "cell_type": "code",
   "execution_count": null,
   "id": "7cd346f9-4784-4539-9786-664cd2bba68e",
   "metadata": {},
   "outputs": [],
   "source": []
  }
 ],
 "metadata": {
  "kernelspec": {
   "display_name": "Python 3",
   "language": "python",
   "name": "python3"
  },
  "language_info": {
   "codemirror_mode": {
    "name": "ipython",
    "version": 3
   },
   "file_extension": ".py",
   "mimetype": "text/x-python",
   "name": "python",
   "nbconvert_exporter": "python",
   "pygments_lexer": "ipython3",
   "version": "3.8.8"
  }
 },
 "nbformat": 4,
 "nbformat_minor": 5
}
