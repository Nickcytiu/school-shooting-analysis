{
 "cells": [
  {
   "cell_type": "code",
   "execution_count": 2,
   "id": "b710023d",
   "metadata": {},
   "outputs": [],
   "source": [
    "import tweepy"
   ]
  },
  {
   "cell_type": "code",
   "execution_count": null,
   "id": "1f76075b",
   "metadata": {},
   "outputs": [],
   "source": [
    "auth = tweepy.OAuthHandler(\"consumer_key\", \"consumer_secret\")\n",
    "\n",
    "# Redirect user to Twitter to authorize\n",
    "redirect_user(auth.get_authorization_url())\n",
    "\n",
    "# Get access token\n",
    "auth.get_access_token(\"verifier_value\")\n",
    "\n",
    "# Construct the API instance\n",
    "api = tweepy.API(auth)"
   ]
  }
 ],
 "metadata": {
  "interpreter": {
   "hash": "536f24ea13af7808b7053e5fb72aadafb720682df20b18cfc5dc67446dc39e0e"
  },
  "kernelspec": {
   "display_name": "Python 3",
   "language": "python",
   "name": "python3"
  },
  "language_info": {
   "codemirror_mode": {
    "name": "ipython",
    "version": 3
   },
   "file_extension": ".py",
   "mimetype": "text/x-python",
   "name": "python",
   "nbconvert_exporter": "python",
   "pygments_lexer": "ipython3",
   "version": "3.8.8"
  }
 },
 "nbformat": 4,
 "nbformat_minor": 5
}
